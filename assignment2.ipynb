{
 "cells": [
  {
   "cell_type": "code",
   "execution_count": 1,
   "metadata": {},
   "outputs": [],
   "source": [
    "import tensorflow as tf\n",
    "from tensorflow.keras import layers, models, regularizers, optimizers, applications\n",
    "from tensorflow.keras.preprocessing import image\n",
    "from tensorflow.keras.preprocessing.image import load_img, img_to_array\n",
    "from tensorflow.keras.layers import RandomZoom, RandomRotation, RandomFlip, Rescaling, Conv2D, MaxPooling2D, Flatten, Dense, Dropout, BatchNormalization, GlobalAveragePooling2D\n",
    "from sklearn.model_selection import train_test_split\n",
    "from tensorflow.keras.preprocessing import image\n",
    "from tensorflow.keras.applications.vgg16 import preprocess_input\n",
    "from PIL import Image\n",
    "from tensorflow.keras.callbacks import ReduceLROnPlateau, EarlyStopping, LearningRateScheduler\n",
    "from tensorflow.keras.applications import VGG16\n",
    "import matplotlib.pyplot as plt\n",
    "import numpy as np\n",
    "import os\n",
    "import random\n",
    "import pandas as pd\n",
    "#import cv2\n",
    "import logging\n",
    "import warnings\n",
    "import json\n",
    "import time"
   ]
  },
  {
   "cell_type": "code",
   "execution_count": 2,
   "metadata": {},
   "outputs": [],
   "source": [
    "#Suppress warnings from the logging module\n",
    "logging.getLogger('tensorflow').setLevel(logging.ERROR)\n",
    "warnings.filterwarnings(\"ignore\", category=UserWarning)"
   ]
  },
  {
   "cell_type": "code",
   "execution_count": 3,
   "metadata": {},
   "outputs": [
    {
     "name": "stdout",
     "output_type": "stream",
     "text": [
      "2.10.0\n"
     ]
    }
   ],
   "source": [
    "#Tensorflow Version\n",
    "print(tf.__version__)"
   ]
  },
  {
   "cell_type": "code",
   "execution_count": 4,
   "metadata": {},
   "outputs": [
    {
     "name": "stdout",
     "output_type": "stream",
     "text": [
      "GPUs detected: 1\n"
     ]
    }
   ],
   "source": [
    "#Check if any GPU devices are detected\n",
    "gpus = tf.config.list_physical_devices('GPU')\n",
    "if gpus:\n",
    "    print(f\"GPUs detected: {len(gpus)}\")\n",
    "else:\n",
    "    print(\"No GPU detected.\")"
   ]
  },
  {
   "cell_type": "code",
   "execution_count": 5,
   "metadata": {},
   "outputs": [],
   "source": [
    "#Global variables\n",
    "IMAGE_DIMENSIONS = (64, 64)\n",
    "BATCH_SIZE = 32\n",
    "num_classes = 18 # Number of folders in dataset\n",
    "AUTOTUNE = tf.data.AUTOTUNE\n",
    "\n",
    "SEED = 385153"
   ]
  },
  {
   "cell_type": "code",
   "execution_count": 5,
   "metadata": {},
   "outputs": [
    {
     "name": "stdout",
     "output_type": "stream",
     "text": [
      "Found 125912 files belonging to 18 classes.\n",
      "Training set uses 88128 samples\n",
      "Validation set uses 12576 samples\n",
      "Test set uses 25208 samples\n"
     ]
    }
   ],
   "source": [
    "#Load Dataset\n",
    "data_directory = 'hagdata/hagridset'\n",
    "full_dataset = tf.keras.utils.image_dataset_from_directory(\n",
    "    data_directory,\n",
    "    shuffle=True,\n",
    "    seed=SEED,\n",
    "    image_size=(IMAGE_DIMENSIONS),\n",
    "    batch_size=BATCH_SIZE,\n",
    "    label_mode='categorical'\n",
    ")\n",
    "\n",
    "# Define ratios for splitting dataset\n",
    "training_split = 0.7\n",
    "validation_split = 0.1\n",
    "testing_split = 0.2\n",
    "\n",
    "# Calculate total dataset size\n",
    "dataset_length = len(full_dataset)\n",
    "\n",
    "# Calculate sizes of each subset\n",
    "training_size = int(dataset_length * training_split)\n",
    "validation_size = int(dataset_length * validation_split)\n",
    "testing_size = dataset_length - (training_size + validation_size)\n",
    "\n",
    "# Create dataset splits and shuffle\n",
    "training_dataset = full_dataset.take(training_size).shuffle(training_size, seed=SEED)\n",
    "validation_dataset = full_dataset.skip(training_size).take(validation_size).shuffle(validation_size, seed=SEED)\n",
    "testing_dataset = full_dataset.skip(training_size + validation_size).shuffle(testing_size, seed=SEED)\n",
    "\n",
    "# Cache and prefetch datasets\n",
    "training_dataset = training_dataset.cache().prefetch(buffer_size=AUTOTUNE)\n",
    "validation_dataset = validation_dataset.cache().prefetch(buffer_size=AUTOTUNE)\n",
    "testing_dataset = testing_dataset.cache().prefetch(buffer_size=AUTOTUNE)\n",
    "\n",
    "# Function to count samples in a dataset\n",
    "def calculate_sample_count(ds):\n",
    "    count = sum(1 for _ in ds.unbatch())\n",
    "    return count\n",
    "\n",
    "# Display the number of samples in each subset\n",
    "print(f'Training set uses {calculate_sample_count(training_dataset)} samples')\n",
    "print(f'Validation set uses {calculate_sample_count(validation_dataset)} samples')\n",
    "print(f'Test set uses {calculate_sample_count(testing_dataset)} samples')"
   ]
  },
  {
   "cell_type": "code",
   "execution_count": 32,
   "metadata": {},
   "outputs": [
    {
     "data": {
      "text/plain": [
       "['call',\n",
       " 'dislike',\n",
       " 'fist',\n",
       " 'four',\n",
       " 'like',\n",
       " 'mute',\n",
       " 'ok',\n",
       " 'one',\n",
       " 'palm',\n",
       " 'peace',\n",
       " 'peace_inverted',\n",
       " 'rock',\n",
       " 'stop',\n",
       " 'stop_inverted',\n",
       " 'three',\n",
       " 'three2',\n",
       " 'two_up',\n",
       " 'two_up_inverted']"
      ]
     },
     "execution_count": 32,
     "metadata": {},
     "output_type": "execute_result"
    }
   ],
   "source": [
    "#Get class names\n",
    "class_names = full_dataset.class_names\n",
    "class_names"
   ]
  },
  {
   "cell_type": "code",
   "execution_count": 33,
   "metadata": {},
   "outputs": [
    {
     "name": "stdout",
     "output_type": "stream",
     "text": [
      "Model: \"sequential_1\"\n",
      "_________________________________________________________________\n",
      " Layer (type)                Output Shape              Param #   \n",
      "=================================================================\n",
      " rescaling_1 (Rescaling)     (None, 64, 64, 3)         0         \n",
      "                                                                 \n",
      " conv2d_4 (Conv2D)           (None, 64, 64, 32)        896       \n",
      "                                                                 \n",
      " batch_normalization_3 (Batc  (None, 64, 64, 32)       128       \n",
      " hNormalization)                                                 \n",
      "                                                                 \n",
      " max_pooling2d_4 (MaxPooling  (None, 32, 32, 32)       0         \n",
      " 2D)                                                             \n",
      "                                                                 \n",
      " conv2d_5 (Conv2D)           (None, 32, 32, 64)        18496     \n",
      "                                                                 \n",
      " max_pooling2d_5 (MaxPooling  (None, 16, 16, 64)       0         \n",
      " 2D)                                                             \n",
      "                                                                 \n",
      " dropout_4 (Dropout)         (None, 16, 16, 64)        0         \n",
      "                                                                 \n",
      " conv2d_6 (Conv2D)           (None, 16, 16, 128)       73856     \n",
      "                                                                 \n",
      " batch_normalization_4 (Batc  (None, 16, 16, 128)      512       \n",
      " hNormalization)                                                 \n",
      "                                                                 \n",
      " max_pooling2d_6 (MaxPooling  (None, 8, 8, 128)        0         \n",
      " 2D)                                                             \n",
      "                                                                 \n",
      " dropout_5 (Dropout)         (None, 8, 8, 128)         0         \n",
      "                                                                 \n",
      " conv2d_7 (Conv2D)           (None, 8, 8, 256)         295168    \n",
      "                                                                 \n",
      " batch_normalization_5 (Batc  (None, 8, 8, 256)        1024      \n",
      " hNormalization)                                                 \n",
      "                                                                 \n",
      " max_pooling2d_7 (MaxPooling  (None, 4, 4, 256)        0         \n",
      " 2D)                                                             \n",
      "                                                                 \n",
      " dropout_6 (Dropout)         (None, 4, 4, 256)         0         \n",
      "                                                                 \n",
      " dense_2 (Dense)             (None, 4, 4, 256)         65792     \n",
      "                                                                 \n",
      " dropout_7 (Dropout)         (None, 4, 4, 256)         0         \n",
      "                                                                 \n",
      " flatten_1 (Flatten)         (None, 4096)              0         \n",
      "                                                                 \n",
      " dense_3 (Dense)             (None, 18)                73746     \n",
      "                                                                 \n",
      "=================================================================\n",
      "Total params: 529,618\n",
      "Trainable params: 528,786\n",
      "Non-trainable params: 832\n",
      "_________________________________________________________________\n"
     ]
    }
   ],
   "source": [
    "#Define the Light CNN Model from Scratch\n",
    "def create_light_cnn_model():\n",
    "    cnn_model = models.Sequential()\n",
    "    cnn_model.add(tf.keras.Input(shape=(IMAGE_DIMENSIONS[0], IMAGE_DIMENSIONS[1], 3)))\n",
    "\n",
    "    # Uncomment the next line if data augmentation is needed\n",
    "    # model.add(data_augmentation_layers)\n",
    "\n",
    "    cnn_model.add(layers.Rescaling(1.0 / 255))  # Normalise pixel values\n",
    "\n",
    "    cnn_model.add(layers.Conv2D(32, 3, padding='same', activation='relu')) \n",
    "    cnn_model.add(layers.BatchNormalization())\n",
    "    cnn_model.add(layers.MaxPooling2D())\n",
    "    # cnn_model.add(layers.Dropout(0.1))\n",
    "\n",
    "    cnn_model.add(layers.Conv2D(64, 3, padding='same', activation='relu'))\n",
    "    cnn_model.add(layers.MaxPooling2D())\n",
    "    cnn_model.add(layers.Dropout(0.1))\n",
    "\n",
    "    cnn_model.add(layers.Conv2D(128, 3, padding='same', activation='relu'))\n",
    "    cnn_model.add(layers.BatchNormalization())\n",
    "    cnn_model.add(layers.MaxPooling2D())\n",
    "    cnn_model.add(layers.Dropout(0.1))\n",
    "\n",
    "    cnn_model.add(layers.Conv2D(256, 3, padding='same', activation='relu'))\n",
    "    cnn_model.add(layers.BatchNormalization())\n",
    "    cnn_model.add(layers.MaxPooling2D())\n",
    "    cnn_model.add(layers.Dropout(0.1))\n",
    "\n",
    "    cnn_model.add(layers.Dense(256, activation='relu'))\n",
    "    cnn_model.add(layers.Dropout(0.3))\n",
    "\n",
    "    cnn_model.add(layers.Flatten())\n",
    "\n",
    "    cnn_model.add(layers.Dense(num_classes, activation='softmax'))\n",
    "\n",
    "    # Compile your model with an initial learning rate\n",
    "    cnn_model.compile(\n",
    "        optimizer=tf.keras.optimizers.RMSprop(learning_rate=0.001),\n",
    "        loss='categorical_crossentropy',\n",
    "        metrics=['accuracy']\n",
    "        )\n",
    "\n",
    "    return cnn_model\n",
    "\n",
    "#Instantiate and summarise the lighter model\n",
    "light_cnn = create_light_cnn_model()\n",
    "light_cnn.summary()"
   ]
  },
  {
   "cell_type": "code",
   "execution_count": 34,
   "metadata": {},
   "outputs": [
    {
     "name": "stdout",
     "output_type": "stream",
     "text": [
      "\n",
      "Epoch 1: LearningRateScheduler setting learning rate to 0.0010000000474974513.\n",
      "Epoch 1/10\n"
     ]
    },
    {
     "name": "stdout",
     "output_type": "stream",
     "text": [
      "2754/2754 [==============================] - 51s 18ms/step - loss: 1.7653 - accuracy: 0.4381 - val_loss: 1.1265 - val_accuracy: 0.6438 - lr: 0.0010\n",
      "\n",
      "Epoch 2: LearningRateScheduler setting learning rate to 0.0009900990569281696.\n",
      "Epoch 2/10\n",
      "2754/2754 [==============================] - 48s 17ms/step - loss: 0.8871 - accuracy: 0.7151 - val_loss: 0.7104 - val_accuracy: 0.7797 - lr: 9.9010e-04\n",
      "\n",
      "Epoch 3: LearningRateScheduler setting learning rate to 0.0009706853341092082.\n",
      "Epoch 3/10\n",
      "2754/2754 [==============================] - 49s 18ms/step - loss: 0.6647 - accuracy: 0.7880 - val_loss: 0.6219 - val_accuracy: 0.8056 - lr: 9.7069e-04\n",
      "\n",
      "Epoch 4: LearningRateScheduler setting learning rate to 0.0009424129424128428.\n",
      "Epoch 4/10\n",
      "2754/2754 [==============================] - 50s 18ms/step - loss: 0.5487 - accuracy: 0.8254 - val_loss: 0.4727 - val_accuracy: 0.8514 - lr: 9.4241e-04\n",
      "\n",
      "Epoch 5: LearningRateScheduler setting learning rate to 0.0009061662869778676.\n",
      "Epoch 5/10\n",
      "2754/2754 [==============================] - 49s 18ms/step - loss: 0.4762 - accuracy: 0.8496 - val_loss: 0.4999 - val_accuracy: 0.8438 - lr: 9.0617e-04\n",
      "\n",
      "Epoch 6: LearningRateScheduler setting learning rate to 0.0008630154964824517.\n",
      "Epoch 6/10\n",
      "2754/2754 [==============================] - 50s 18ms/step - loss: 0.4181 - accuracy: 0.8659 - val_loss: 0.5902 - val_accuracy: 0.8314 - lr: 8.6302e-04\n",
      "\n",
      "Epoch 7: LearningRateScheduler setting learning rate to 0.0008141655444149982.\n",
      "Epoch 7/10\n",
      "2754/2754 [==============================] - 48s 17ms/step - loss: 0.3791 - accuracy: 0.8797 - val_loss: 0.4117 - val_accuracy: 0.8701 - lr: 8.1417e-04\n",
      "\n",
      "Epoch 8: LearningRateScheduler setting learning rate to 0.000760902402591761.\n",
      "Epoch 8/10\n",
      "2754/2754 [==============================] - 49s 18ms/step - loss: 0.3379 - accuracy: 0.8923 - val_loss: 0.3536 - val_accuracy: 0.8923 - lr: 7.6090e-04\n",
      "\n",
      "Epoch 9: LearningRateScheduler setting learning rate to 0.0007045392757626595.\n",
      "Epoch 9/10\n",
      "2754/2754 [==============================] - 48s 17ms/step - loss: 0.3135 - accuracy: 0.9005 - val_loss: 0.3873 - val_accuracy: 0.8871 - lr: 7.0454e-04\n",
      "\n",
      "Epoch 10: LearningRateScheduler setting learning rate to 0.0006463663297953135.\n",
      "Epoch 10/10\n",
      "2754/2754 [==============================] - 50s 18ms/step - loss: 0.2845 - accuracy: 0.9090 - val_loss: 0.3846 - val_accuracy: 0.8929 - lr: 6.4637e-04\n"
     ]
    }
   ],
   "source": [
    "def train_light_cnn_model(cnn_model, training_data, validation_data, epochs=10):\n",
    "    # Define a learning rate schedule\n",
    "    def lr_time_based_decay(epoch, lr):\n",
    "        return lr * 1 / (1 + 0.01 * epoch)\n",
    "    \n",
    "    # Setup callbacks\n",
    "    callbacks = [\n",
    "        tf.keras.callbacks.EarlyStopping(monitor='val_loss', patience=3, restore_best_weights=True),\n",
    "        tf.keras.callbacks.LearningRateScheduler(lr_time_based_decay, verbose=1)\n",
    "    ]\n",
    "    \n",
    "    # Train the model\n",
    "    training_history = cnn_model.fit(\n",
    "        training_data,\n",
    "        validation_data=validation_data,\n",
    "        epochs=epochs,\n",
    "        callbacks=callbacks\n",
    "    )\n",
    "    \n",
    "    return training_history\n",
    "\n",
    "# Use the defined method to train the light CNN model\n",
    "light_history = train_light_cnn_model(light_cnn, training_dataset, validation_dataset)\n"
   ]
  },
  {
   "cell_type": "code",
   "execution_count": 39,
   "metadata": {},
   "outputs": [
    {
     "name": "stdout",
     "output_type": "stream",
     "text": [
      "788/788 [==============================] - 5s 6ms/step\n",
      "Inference Time: 6.278865337371826 seconds\n"
     ]
    },
    {
     "data": {
      "image/png": "[encoded data removed]",
      "text/plain": [
       "<Figure size 1200x500 with 2 Axes>"
      ]
     },
     "metadata": {},
     "output_type": "display_data"
    }
   ],
   "source": [
    "# Measure inference time\n",
    "start_time = time.time()\n",
    "predictions = light_cnn.predict(testing_dataset)  # Make sure testing_dataset is prepared correctly\n",
    "inference_time = time.time() - start_time\n",
    "print(f\"Inference Time: {inference_time} seconds\")\n",
    "\n",
    "# Access the training history dictionary from the consolidated function\n",
    "acc = light_history.history['accuracy']\n",
    "val_acc = light_history.history['val_accuracy']\n",
    "loss = light_history.history['loss']\n",
    "val_loss = light_history.history['val_loss']\n",
    "\n",
    "# Calculate the number of epochs based on the length of any metric list\n",
    "epochs = range(1, len(acc) + 1)\n",
    "\n",
    "# Plotting training and validation accuracy with new colors\n",
    "plt.figure(figsize=(12, 5))\n",
    "plt.subplot(1, 2, 1)\n",
    "plt.plot(epochs, acc, 'go-', label='Training Accuracy')  # Changed to green with line\n",
    "plt.plot(epochs, val_acc, 'g--', label='Validation Accuracy')  # Changed to green dashed line\n",
    "plt.title('Training and Validation Accuracy')\n",
    "plt.xlabel('Epochs')\n",
    "plt.ylabel('Accuracy')\n",
    "plt.xticks(range(1, len(acc) + 1))  # Set x-ticks to show each epoch\n",
    "plt.legend()\n",
    "\n",
    "# Plotting training and validation loss with new colors\n",
    "plt.subplot(1, 2, 2)\n",
    "plt.plot(epochs, loss, 'mo-', label='Training Loss')  # Changed to magenta with line\n",
    "plt.plot(epochs, val_loss, 'm--', label='Validation Loss')  # Changed to magenta dashed line\n",
    "plt.title('Training and Validation Loss')\n",
    "plt.xlabel('Epochs')\n",
    "plt.ylabel('Loss')\n",
    "plt.xticks(range(1, len(acc) + 1))  # Set x-ticks to show each epoch\n",
    "plt.legend()\n",
    "\n",
    "plt.show()\n"
   ]
  },
  {
   "cell_type": "markdown",
   "metadata": {},
   "source": [
    "Greyacale\n"
   ]
  },
  {
   "cell_type": "code",
   "execution_count": 14,
   "metadata": {},
   "outputs": [
    {
     "name": "stdout",
     "output_type": "stream",
     "text": [
      "Found 125912 files belonging to 18 classes.\n"
     ]
    }
   ],
   "source": [
    "# Load Dataset in grayscale\n",
    "dataset_path = 'hagdata/hagridset'\n",
    "greyscale_dataset = tf.keras.utils.image_dataset_from_directory(\n",
    "    dataset_path,\n",
    "    shuffle=True,\n",
    "    seed=SEED,\n",
    "    image_size=IMAGE_DIMENSIONS,\n",
    "    batch_size=BATCH_SIZE,\n",
    "    color_mode='grayscale',  # Load images as grayscale\n",
    "    label_mode='categorical'\n",
    ")"
   ]
  },
  {
   "cell_type": "code",
   "execution_count": 15,
   "metadata": {},
   "outputs": [
    {
     "name": "stdout",
     "output_type": "stream",
     "text": [
      "Found 125912 files belonging to 18 classes.\n",
      "Dataset element spec: (TensorSpec(shape=(None, 64, 64, 1), dtype=tf.float32, name=None), TensorSpec(shape=(None, 18), dtype=tf.float32, name=None))\n"
     ]
    }
   ],
   "source": [
    "print(\"Found {} files belonging to {} classes.\".format(len(greyscale_dataset.file_paths), len(greyscale_dataset.class_names)))\n",
    "print(\"Dataset element spec:\", greyscale_dataset.element_spec)"
   ]
  },
  {
   "cell_type": "code",
   "execution_count": 18,
   "metadata": {},
   "outputs": [
    {
     "name": "stdout",
     "output_type": "stream",
     "text": [
      "Training set uses 88128 samples\n",
      "Validation set uses 12576 samples\n",
      "Test set uses 25208 samples\n"
     ]
    }
   ],
   "source": [
    "\n",
    "# Define ratios for splitting dataset\n",
    "training_split = 0.7\n",
    "validation_split = 0.1\n",
    "testing_split = 0.2\n",
    "\n",
    "# Calculate total dataset size\n",
    "dataset_length = len(greyscale_dataset)\n",
    "\n",
    "# Calculate sizes of each subset\n",
    "training_size = int(dataset_length * training_split)\n",
    "validation_size = int(dataset_length * validation_split)\n",
    "testing_size = dataset_length - (training_size + validation_size)\n",
    "\n",
    "# Create dataset splits and shuffle\n",
    "training_dataset = greyscale_dataset.take(training_size).shuffle(training_size, seed=SEED)\n",
    "validation_dataset = greyscale_dataset.skip(training_size).take(validation_size).shuffle(validation_size, seed=SEED)\n",
    "testing_dataset = greyscale_dataset.skip(training_size + validation_size).shuffle(testing_size, seed=SEED)\n",
    "\n",
    "# Cache and prefetch datasets\n",
    "training_dataset = training_dataset.cache().prefetch(buffer_size=AUTOTUNE)\n",
    "validation_dataset = validation_dataset.cache().prefetch(buffer_size=AUTOTUNE)\n",
    "testing_dataset = testing_dataset.cache().prefetch(buffer_size=AUTOTUNE)\n",
    "\n",
    "# Function to count samples in a dataset\n",
    "def calculate_sample_count(ds):\n",
    "    count = sum(1 for _ in ds.unbatch())\n",
    "    return count\n",
    "\n",
    "# Display the number of samples in each subset\n",
    "print(f'Training set uses {calculate_sample_count(training_dataset)} samples')\n",
    "print(f'Validation set uses {calculate_sample_count(validation_dataset)} samples')\n",
    "print(f'Test set uses {calculate_sample_count(testing_dataset)} samples')"
   ]
  },
  {
   "cell_type": "code",
   "execution_count": 19,
   "metadata": {},
   "outputs": [],
   "source": [
    "def create_greyscale_cnn_model():\n",
    "    grey_model = models.Sequential()\n",
    "    # Adjust input layer to accept greyscale images (64, 64, 1)\n",
    "    grey_model.add(tf.keras.Input(shape=(IMAGE_DIMENSIONS[0], IMAGE_DIMENSIONS[1], 1)))  \n",
    "\n",
    "    grey_model.add(layers.Rescaling(1.0 / 255))  # Normalise pixel values\n",
    "\n",
    "    grey_model.add(layers.Conv2D(32, 3, padding='same', activation='relu'))\n",
    "    grey_model.add(layers.BatchNormalization())\n",
    "    grey_model.add(layers.MaxPooling2D())\n",
    "\n",
    "    grey_model.add(layers.Conv2D(64, 3, padding='same', activation='relu'))\n",
    "    grey_model.add(layers.MaxPooling2D())\n",
    "    grey_model.add(layers.Dropout(0.1))\n",
    "\n",
    "    grey_model.add(layers.Conv2D(128, 3, padding='same', activation='relu'))\n",
    "    grey_model.add(layers.BatchNormalization())\n",
    "    grey_model.add(layers.MaxPooling2D())\n",
    "    grey_model.add(layers.Dropout(0.1))\n",
    "\n",
    "    grey_model.add(layers.Conv2D(256, 3, padding='same', activation='relu'))\n",
    "    grey_model.add(layers.BatchNormalization())\n",
    "    grey_model.add(layers.MaxPooling2D())\n",
    "    grey_model.add(layers.Dropout(0.1))\n",
    "\n",
    "    grey_model.add(layers.Dense(256, activation='relu'))\n",
    "    grey_model.add(layers.Dropout(0.3))\n",
    "\n",
    "    grey_model.add(layers.Flatten())\n",
    "\n",
    "    grey_model.add(layers.Dense(num_classes, activation='softmax'))\n",
    "\n",
    "    # Compile the model with an initial learning rate\n",
    "    grey_model.compile(\n",
    "        optimizer=tf.keras.optimizers.RMSprop(learning_rate=0.001),\n",
    "        loss='categorical_crossentropy',\n",
    "        metrics=['accuracy']\n",
    "    )\n",
    "\n",
    "    return grey_model\n"
   ]
  },
  {
   "cell_type": "code",
   "execution_count": 20,
   "metadata": {},
   "outputs": [
    {
     "name": "stdout",
     "output_type": "stream",
     "text": [
      "Model: \"sequential\"\n",
      "_________________________________________________________________\n",
      " Layer (type)                Output Shape              Param #   \n",
      "=================================================================\n",
      " rescaling (Rescaling)       (None, 64, 64, 1)         0         \n",
      "                                                                 \n",
      " conv2d (Conv2D)             (None, 64, 64, 32)        320       \n",
      "                                                                 \n",
      " batch_normalization (BatchN  (None, 64, 64, 32)       128       \n",
      " ormalization)                                                   \n",
      "                                                                 \n",
      " max_pooling2d (MaxPooling2D  (None, 32, 32, 32)       0         \n",
      " )                                                               \n",
      "                                                                 \n",
      " conv2d_1 (Conv2D)           (None, 32, 32, 64)        18496     \n",
      "                                                                 \n",
      " max_pooling2d_1 (MaxPooling  (None, 16, 16, 64)       0         \n",
      " 2D)                                                             \n",
      "                                                                 \n",
      " dropout (Dropout)           (None, 16, 16, 64)        0         \n",
      "                                                                 \n",
      " conv2d_2 (Conv2D)           (None, 16, 16, 128)       73856     \n",
      "                                                                 \n",
      " batch_normalization_1 (Batc  (None, 16, 16, 128)      512       \n",
      " hNormalization)                                                 \n",
      "                                                                 \n",
      " max_pooling2d_2 (MaxPooling  (None, 8, 8, 128)        0         \n",
      " 2D)                                                             \n",
      "                                                                 \n",
      " dropout_1 (Dropout)         (None, 8, 8, 128)         0         \n",
      "                                                                 \n",
      " conv2d_3 (Conv2D)           (None, 8, 8, 256)         295168    \n",
      "                                                                 \n",
      " batch_normalization_2 (Batc  (None, 8, 8, 256)        1024      \n",
      " hNormalization)                                                 \n",
      "                                                                 \n",
      " max_pooling2d_3 (MaxPooling  (None, 4, 4, 256)        0         \n",
      " 2D)                                                             \n",
      "                                                                 \n",
      " dropout_2 (Dropout)         (None, 4, 4, 256)         0         \n",
      "                                                                 \n",
      " dense (Dense)               (None, 4, 4, 256)         65792     \n",
      "                                                                 \n",
      " dropout_3 (Dropout)         (None, 4, 4, 256)         0         \n",
      "                                                                 \n",
      " flatten (Flatten)           (None, 4096)              0         \n",
      "                                                                 \n",
      " dense_1 (Dense)             (None, 18)                73746     \n",
      "                                                                 \n",
      "=================================================================\n",
      "Total params: 529,042\n",
      "Trainable params: 528,210\n",
      "Non-trainable params: 832\n",
      "_________________________________________________________________\n"
     ]
    }
   ],
   "source": [
    "# Instantiate the greyscale model\n",
    "greyscale_cnn = create_greyscale_cnn_model()\n",
    "greyscale_cnn.summary()\n",
    "\n",
    "# Training function remains the same\n",
    "def train_greyscale_cnn_model(cnn_model, train_data, validate_data, epochs=10):\n",
    "    def lr_decay(epoch, lr):\n",
    "        return lr * 1 / (1 + 0.01 * epoch)\n",
    "\n",
    "    callbacks = [\n",
    "        tf.keras.callbacks.EarlyStopping(monitor='val_loss', patience=3, restore_best_weights=True),\n",
    "        tf.keras.callbacks.LearningRateScheduler(lr_decay, verbose=1)\n",
    "    ]\n",
    "    \n",
    "    # Train the model directly using the dataset\n",
    "    training_history = cnn_model.fit(\n",
    "        train_data,\n",
    "        epochs=epochs,\n",
    "        validation_data=validate_data,\n",
    "        callbacks=callbacks\n",
    "    )\n",
    "    \n",
    "    return training_history\n",
    "\n",
    "\n"
   ]
  },
  {
   "cell_type": "code",
   "execution_count": 21,
   "metadata": {},
   "outputs": [
    {
     "name": "stdout",
     "output_type": "stream",
     "text": [
      "Batch shape: (32, 64, 64, 1)\n",
      "Labels shape: (32, 18)\n"
     ]
    }
   ],
   "source": [
    "for images, labels in greyscale_dataset.take(1):\n",
    "    print(\"Batch shape:\", images.shape)  # Should be (batch_size, 64, 64, 1)\n",
    "    print(\"Labels shape:\", labels.shape)"
   ]
  },
  {
   "cell_type": "code",
   "execution_count": 22,
   "metadata": {},
   "outputs": [
    {
     "name": "stdout",
     "output_type": "stream",
     "text": [
      "\n",
      "Epoch 1: LearningRateScheduler setting learning rate to 0.0010000000474974513.\n",
      "Epoch 1/10\n",
      "2754/2754 [==============================] - 68s 20ms/step - loss: 1.8604 - accuracy: 0.4088 - val_loss: 1.3495 - val_accuracy: 0.5737 - lr: 0.0010\n",
      "\n",
      "Epoch 2: LearningRateScheduler setting learning rate to 0.0009900990569281696.\n",
      "Epoch 2/10\n",
      "2754/2754 [==============================] - 55s 20ms/step - loss: 1.1211 - accuracy: 0.6392 - val_loss: 1.0796 - val_accuracy: 0.6618 - lr: 9.9010e-04\n",
      "\n",
      "Epoch 3: LearningRateScheduler setting learning rate to 0.0009706853341092082.\n",
      "Epoch 3/10\n",
      "2754/2754 [==============================] - 58s 21ms/step - loss: 0.8693 - accuracy: 0.7221 - val_loss: 0.9921 - val_accuracy: 0.6908 - lr: 9.7069e-04\n",
      "\n",
      "Epoch 4: LearningRateScheduler setting learning rate to 0.0009424129424128428.\n",
      "Epoch 4/10\n",
      "2754/2754 [==============================] - 56s 20ms/step - loss: 0.7337 - accuracy: 0.7638 - val_loss: 0.7510 - val_accuracy: 0.7634 - lr: 9.4241e-04\n",
      "\n",
      "Epoch 5: LearningRateScheduler setting learning rate to 0.0009061662869778676.\n",
      "Epoch 5/10\n",
      "2754/2754 [==============================] - 59s 21ms/step - loss: 0.6426 - accuracy: 0.7932 - val_loss: 0.7295 - val_accuracy: 0.7731 - lr: 9.0617e-04\n",
      "\n",
      "Epoch 6: LearningRateScheduler setting learning rate to 0.0008630154964824517.\n",
      "Epoch 6/10\n",
      "2754/2754 [==============================] - 58s 21ms/step - loss: 0.5804 - accuracy: 0.8134 - val_loss: 0.6614 - val_accuracy: 0.7980 - lr: 8.6302e-04\n",
      "\n",
      "Epoch 7: LearningRateScheduler setting learning rate to 0.0008141655444149982.\n",
      "Epoch 7/10\n",
      "2754/2754 [==============================] - 57s 21ms/step - loss: 0.5274 - accuracy: 0.8285 - val_loss: 0.5773 - val_accuracy: 0.8179 - lr: 8.1417e-04\n",
      "\n",
      "Epoch 8: LearningRateScheduler setting learning rate to 0.000760902402591761.\n",
      "Epoch 8/10\n",
      "2754/2754 [==============================] - 55s 20ms/step - loss: 0.4825 - accuracy: 0.8444 - val_loss: 0.6180 - val_accuracy: 0.8067 - lr: 7.6090e-04\n",
      "\n",
      "Epoch 9: LearningRateScheduler setting learning rate to 0.0007045392757626595.\n",
      "Epoch 9/10\n",
      "2754/2754 [==============================] - 55s 20ms/step - loss: 0.4450 - accuracy: 0.8548 - val_loss: 0.5772 - val_accuracy: 0.8347 - lr: 7.0454e-04\n",
      "\n",
      "Epoch 10: LearningRateScheduler setting learning rate to 0.0006463663297953135.\n",
      "Epoch 10/10\n",
      "2754/2754 [==============================] - 57s 21ms/step - loss: 0.4101 - accuracy: 0.8676 - val_loss: 0.6314 - val_accuracy: 0.8049 - lr: 6.4637e-04\n"
     ]
    }
   ],
   "source": [
    "# Train the greyscale CNN model\n",
    "greyscale_history = train_greyscale_cnn_model(greyscale_cnn, training_dataset, validation_dataset)"
   ]
  },
  {
   "cell_type": "code",
   "execution_count": 36,
   "metadata": {},
   "outputs": [],
   "source": [
    "#Data Augmentation\n",
    "#data_augmentation_layers = tf.keras.Sequential([\n",
    "    # DO ONE OR OTHER\n",
    "    #layers.RandomFlip(\"horizontal\"),\n",
    "    #layers.RandomRotation(0.05),\n",
    "#])"
   ]
  }
 ],
 "metadata": {
  "kernelspec": {
   "display_name": "base",
   "language": "python",
   "name": "python3"
  },
  "language_info": {
   "codemirror_mode": {
    "name": "ipython",
    "version": 3
   },
   "file_extension": ".py",
   "mimetype": "text/x-python",
   "name": "python",
   "nbconvert_exporter": "python",
   "pygments_lexer": "ipython3",
   "version": "3.10.14"
  }
 },
 "nbformat": 4,
 "nbformat_minor": 2
}
